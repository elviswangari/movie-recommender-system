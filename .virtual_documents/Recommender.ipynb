


# import libraries
import pandas as pd
import numpy as np
import matplotlib.pyplot as plt
import seaborn as sns

%matplotlib inline


# read data
movie_data = pd.read_csv("movie_dataset.csv")

movie_data



